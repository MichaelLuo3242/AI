{
 "cells": [
  {
   "cell_type": "markdown",
   "metadata": {},
   "source": [
    "# <center>python数据清洗<center>"
   ]
  },
  {
   "cell_type": "markdown",
   "metadata": {},
   "source": [
    "Pandas数据清洗流程：      \n",
    "- 1.数据的读写\n",
    "- 2.数据的探索与描述\n",
    "- 3.数据的选择与整理\n",
    "- 4.数据的分组\n",
    "- 5.数据的分割、合并以及重塑、透视\n",
    "- 6.缺失值、异常值\n"
   ]
  },
  {
   "cell_type": "markdown",
   "metadata": {},
   "source": [
    "## 1、数据的读取"
   ]
  },
  {
   "cell_type": "code",
   "execution_count": 1,
   "metadata": {},
   "outputs": [],
   "source": [
    "import pandas as pd\n",
    "import numpy as np"
   ]
  },
  {
   "cell_type": "code",
   "execution_count": 6,
   "metadata": {},
   "outputs": [],
   "source": [
    "#读入淘宝数据集并赋值给df\n",
    "df = pd.read_csv(r\"D:\\data\\taobao_data.csv\")"
   ]
  },
  {
   "cell_type": "code",
   "execution_count": 1,
   "metadata": {},
   "outputs": [],
   "source": [
    "#查看数据的前五行\n",
    "#默认显示前五行\n"
   ]
  },
  {
   "cell_type": "code",
   "execution_count": 2,
   "metadata": {
    "scrolled": true
   },
   "outputs": [],
   "source": [
    "#查看数据后五行\n"
   ]
  },
  {
   "cell_type": "code",
   "execution_count": 3,
   "metadata": {},
   "outputs": [],
   "source": [
    "#进行有放回抽样,随机抽取三条数据\n"
   ]
  },
  {
   "cell_type": "markdown",
   "metadata": {},
   "source": [
    "## 2、数据的探索"
   ]
  },
  {
   "cell_type": "code",
   "execution_count": 4,
   "metadata": {},
   "outputs": [],
   "source": [
    "#快速了解数据的结构,查看数据详细信息\n"
   ]
  },
  {
   "cell_type": "code",
   "execution_count": 5,
   "metadata": {},
   "outputs": [],
   "source": [
    "#快速查看数据的描述性统计信息\n"
   ]
  },
  {
   "cell_type": "markdown",
   "metadata": {},
   "source": [
    "## 3、数据的选择与整理"
   ]
  },
  {
   "cell_type": "markdown",
   "metadata": {},
   "source": [
    "行的选择"
   ]
  },
  {
   "cell_type": "code",
   "execution_count": 6,
   "metadata": {},
   "outputs": [],
   "source": [
    "#选择0~4行方法一\n"
   ]
  },
  {
   "cell_type": "code",
   "execution_count": 7,
   "metadata": {},
   "outputs": [],
   "source": [
    "#选择0~4行方法二\n"
   ]
  },
  {
   "cell_type": "code",
   "execution_count": 8,
   "metadata": {},
   "outputs": [],
   "source": [
    "#选择不连续的1,3,5条记录方法一\n"
   ]
  },
  {
   "cell_type": "code",
   "execution_count": 9,
   "metadata": {
    "scrolled": true
   },
   "outputs": [],
   "source": [
    "#选择不连续的1,3,5条记录方法二\n"
   ]
  },
  {
   "cell_type": "markdown",
   "metadata": {},
   "source": [
    "列的选择"
   ]
  },
  {
   "cell_type": "code",
   "execution_count": 10,
   "metadata": {},
   "outputs": [],
   "source": [
    "#选择\"宝贝\"和\"价格\"这两列方法一\n"
   ]
  },
  {
   "cell_type": "code",
   "execution_count": 11,
   "metadata": {},
   "outputs": [],
   "source": [
    "#选择\"宝贝\"和\"价格\"这两列方法二\n"
   ]
  },
  {
   "cell_type": "code",
   "execution_count": 12,
   "metadata": {},
   "outputs": [],
   "source": [
    "# 选择前2列数据\n"
   ]
  },
  {
   "cell_type": "code",
   "execution_count": 13,
   "metadata": {},
   "outputs": [],
   "source": [
    "# 选择\"宝贝\",\"价格\",\"卖家\"三列数据\n"
   ]
  },
  {
   "cell_type": "markdown",
   "metadata": {},
   "source": [
    "区域块的选择"
   ]
  },
  {
   "cell_type": "code",
   "execution_count": 14,
   "metadata": {},
   "outputs": [],
   "source": [
    "#选择前3行，前2列\n"
   ]
  },
  {
   "cell_type": "code",
   "execution_count": 15,
   "metadata": {},
   "outputs": [],
   "source": [
    "# 用iloc方法选择70——74行,价格和卖家这两列\n"
   ]
  },
  {
   "cell_type": "code",
   "execution_count": 16,
   "metadata": {},
   "outputs": [],
   "source": [
    "# 选择\"宝贝\"和\"价格\"两列和前三行数据区域\n"
   ]
  },
  {
   "cell_type": "code",
   "execution_count": 17,
   "metadata": {},
   "outputs": [],
   "source": [
    "#增加一列销售额\n"
   ]
  },
  {
   "cell_type": "code",
   "execution_count": 18,
   "metadata": {
    "scrolled": true
   },
   "outputs": [],
   "source": [
    "# 过滤掉价格>=100,成交量<8000的商品信息\n"
   ]
  },
  {
   "cell_type": "code",
   "execution_count": 19,
   "metadata": {},
   "outputs": [],
   "source": [
    "# 将位置设置为索引\n"
   ]
  },
  {
   "cell_type": "code",
   "execution_count": 20,
   "metadata": {},
   "outputs": [],
   "source": [
    "#根据索引排序\n"
   ]
  },
  {
   "cell_type": "code",
   "execution_count": 21,
   "metadata": {},
   "outputs": [],
   "source": [
    "#设置‘位置’与‘卖家’为索引,并根据位置进行排序\n"
   ]
  },
  {
   "cell_type": "markdown",
   "metadata": {
    "collapsed": true
   },
   "source": [
    "\n",
    "## 4、数据的分组\n",
    "将所需的字段作为索引，然后使用汇总函数进行汇总计算"
   ]
  },
  {
   "cell_type": "code",
   "execution_count": 22,
   "metadata": {
    "scrolled": true
   },
   "outputs": [],
   "source": [
    "# groupby分组汇总\n"
   ]
  },
  {
   "cell_type": "code",
   "execution_count": 23,
   "metadata": {},
   "outputs": [],
   "source": [
    "#删除宝贝和卖家这两列方法一  \n"
   ]
  },
  {
   "cell_type": "code",
   "execution_count": 24,
   "metadata": {},
   "outputs": [],
   "source": [
    "#删除宝贝和卖家这两列方法二 \n"
   ]
  },
  {
   "cell_type": "code",
   "execution_count": 25,
   "metadata": {},
   "outputs": [],
   "source": [
    "# 依据位置分组并按照均值聚合\n"
   ]
  },
  {
   "cell_type": "code",
   "execution_count": 26,
   "metadata": {},
   "outputs": [],
   "source": [
    "#依据位置聚合,并对价格求均值,对成交量求和,对销售额求均值\n"
   ]
  },
  {
   "cell_type": "code",
   "execution_count": 27,
   "metadata": {},
   "outputs": [],
   "source": [
    "# 依据\"位置\"和\"卖家\"两个字段作为分组依据,并对分组后的数据进行求均值的聚合运算\n"
   ]
  },
  {
   "cell_type": "code",
   "execution_count": 28,
   "metadata": {
    "scrolled": true
   },
   "outputs": [],
   "source": [
    "#查看依据\"位置\"分组后的分组数量以及每组中有多少条记录\n"
   ]
  },
  {
   "cell_type": "code",
   "execution_count": 29,
   "metadata": {
    "scrolled": true
   },
   "outputs": [],
   "source": [
    "#查看依据\"位置\"和\"卖家\"分组后的分组数量以及每组中有多少条记录\n"
   ]
  },
  {
   "cell_type": "markdown",
   "metadata": {},
   "source": [
    "## 5、数据的合并"
   ]
  },
  {
   "cell_type": "markdown",
   "metadata": {},
   "source": [
    "- concat()函数\n",
    "- merge()函数"
   ]
  },
  {
   "cell_type": "code",
   "execution_count": 30,
   "metadata": {},
   "outputs": [],
   "source": [
    "#把行索引为20-29，列名为位置和卖家的数据切出来赋值给df1\n"
   ]
  },
  {
   "cell_type": "code",
   "execution_count": 31,
   "metadata": {},
   "outputs": [],
   "source": [
    "#把行索引为25-35，列索引为卖家、价格、成交量提取出来赋值给df2\n"
   ]
  },
  {
   "cell_type": "code",
   "execution_count": 32,
   "metadata": {
    "scrolled": true
   },
   "outputs": [],
   "source": [
    "# 将df1和df2实现左右连接,相同索引数据匹配\n"
   ]
  },
  {
   "cell_type": "code",
   "execution_count": 59,
   "metadata": {},
   "outputs": [],
   "source": [
    "cols_1=df[:6]['宝贝']\n",
    "cols_2=df[:6]['价格']\n",
    "cols_3=df[:6]['成交量']"
   ]
  },
  {
   "cell_type": "code",
   "execution_count": 33,
   "metadata": {
    "scrolled": true
   },
   "outputs": [],
   "source": [
    "#实现cols_1,cols_2和cols_3的拼接,并符合业务逻辑\n"
   ]
  },
  {
   "cell_type": "markdown",
   "metadata": {},
   "source": [
    "## 6、数据的重塑"
   ]
  },
  {
   "cell_type": "code",
   "execution_count": 8,
   "metadata": {},
   "outputs": [],
   "source": [
    "import pandas as pd"
   ]
  },
  {
   "cell_type": "code",
   "execution_count": 73,
   "metadata": {
    "scrolled": true
   },
   "outputs": [],
   "source": [
    "data=pd.read_csv(r'D:\\data\\hz_weather.csv')"
   ]
  },
  {
   "cell_type": "code",
   "execution_count": 74,
   "metadata": {
    "scrolled": true
   },
   "outputs": [
    {
     "data": {
      "text/html": [
       "<div>\n",
       "<style scoped>\n",
       "    .dataframe tbody tr th:only-of-type {\n",
       "        vertical-align: middle;\n",
       "    }\n",
       "\n",
       "    .dataframe tbody tr th {\n",
       "        vertical-align: top;\n",
       "    }\n",
       "\n",
       "    .dataframe thead th {\n",
       "        text-align: right;\n",
       "    }\n",
       "</style>\n",
       "<table border=\"1\" class=\"dataframe\">\n",
       "  <thead>\n",
       "    <tr style=\"text-align: right;\">\n",
       "      <th></th>\n",
       "      <th>日期</th>\n",
       "      <th>最高气温</th>\n",
       "      <th>最低气温</th>\n",
       "      <th>天气</th>\n",
       "      <th>风向</th>\n",
       "      <th>风力</th>\n",
       "    </tr>\n",
       "  </thead>\n",
       "  <tbody>\n",
       "    <tr>\n",
       "      <th>0</th>\n",
       "      <td>2017-01-01</td>\n",
       "      <td>17</td>\n",
       "      <td>7</td>\n",
       "      <td>晴</td>\n",
       "      <td>西北风</td>\n",
       "      <td>2级</td>\n",
       "    </tr>\n",
       "    <tr>\n",
       "      <th>1</th>\n",
       "      <td>2017-01-02</td>\n",
       "      <td>16</td>\n",
       "      <td>8</td>\n",
       "      <td>多云</td>\n",
       "      <td>东北风</td>\n",
       "      <td>2级</td>\n",
       "    </tr>\n",
       "    <tr>\n",
       "      <th>2</th>\n",
       "      <td>2017-01-03</td>\n",
       "      <td>15</td>\n",
       "      <td>8</td>\n",
       "      <td>多云</td>\n",
       "      <td>东北风</td>\n",
       "      <td>1级</td>\n",
       "    </tr>\n",
       "    <tr>\n",
       "      <th>3</th>\n",
       "      <td>2017-01-04</td>\n",
       "      <td>15</td>\n",
       "      <td>11</td>\n",
       "      <td>小雨</td>\n",
       "      <td>西北风</td>\n",
       "      <td>2级</td>\n",
       "    </tr>\n",
       "    <tr>\n",
       "      <th>4</th>\n",
       "      <td>2017-01-05</td>\n",
       "      <td>13</td>\n",
       "      <td>11</td>\n",
       "      <td>小到中雨</td>\n",
       "      <td>北风</td>\n",
       "      <td>2级</td>\n",
       "    </tr>\n",
       "  </tbody>\n",
       "</table>\n",
       "</div>"
      ],
      "text/plain": [
       "           日期  最高气温  最低气温    天气   风向  风力\n",
       "0  2017-01-01    17     7     晴  西北风  2级\n",
       "1  2017-01-02    16     8    多云  东北风  2级\n",
       "2  2017-01-03    15     8    多云  东北风  1级\n",
       "3  2017-01-04    15    11    小雨  西北风  2级\n",
       "4  2017-01-05    13    11  小到中雨   北风  2级"
      ]
     },
     "execution_count": 74,
     "metadata": {},
     "output_type": "execute_result"
    }
   ],
   "source": [
    "data.head()"
   ]
  },
  {
   "cell_type": "code",
   "execution_count": 81,
   "metadata": {},
   "outputs": [
    {
     "data": {
      "text/plain": [
       "(118, 6)"
      ]
     },
     "execution_count": 81,
     "metadata": {},
     "output_type": "execute_result"
    }
   ],
   "source": [
    "data.shape"
   ]
  },
  {
   "cell_type": "code",
   "execution_count": 81,
   "metadata": {
    "scrolled": true
   },
   "outputs": [
    {
     "data": {
      "text/html": [
       "<div>\n",
       "<style scoped>\n",
       "    .dataframe tbody tr th:only-of-type {\n",
       "        vertical-align: middle;\n",
       "    }\n",
       "\n",
       "    .dataframe tbody tr th {\n",
       "        vertical-align: top;\n",
       "    }\n",
       "\n",
       "    .dataframe thead th {\n",
       "        text-align: right;\n",
       "    }\n",
       "</style>\n",
       "<table border=\"1\" class=\"dataframe\">\n",
       "  <thead>\n",
       "    <tr style=\"text-align: right;\">\n",
       "      <th></th>\n",
       "      <th>日期</th>\n",
       "      <th>最高气温</th>\n",
       "      <th>最低气温</th>\n",
       "      <th>天气</th>\n",
       "      <th>风向</th>\n",
       "      <th>风力</th>\n",
       "    </tr>\n",
       "  </thead>\n",
       "  <tbody>\n",
       "    <tr>\n",
       "      <th>0</th>\n",
       "      <td>2017-01-01</td>\n",
       "      <td>17</td>\n",
       "      <td>7</td>\n",
       "      <td>晴</td>\n",
       "      <td>西北风</td>\n",
       "      <td>2级</td>\n",
       "    </tr>\n",
       "    <tr>\n",
       "      <th>1</th>\n",
       "      <td>2017-01-02</td>\n",
       "      <td>16</td>\n",
       "      <td>8</td>\n",
       "      <td>多云</td>\n",
       "      <td>东北风</td>\n",
       "      <td>2级</td>\n",
       "    </tr>\n",
       "    <tr>\n",
       "      <th>2</th>\n",
       "      <td>2017-01-03</td>\n",
       "      <td>15</td>\n",
       "      <td>8</td>\n",
       "      <td>多云</td>\n",
       "      <td>东北风</td>\n",
       "      <td>1级</td>\n",
       "    </tr>\n",
       "    <tr>\n",
       "      <th>3</th>\n",
       "      <td>2017-01-04</td>\n",
       "      <td>15</td>\n",
       "      <td>11</td>\n",
       "      <td>小雨</td>\n",
       "      <td>西北风</td>\n",
       "      <td>2级</td>\n",
       "    </tr>\n",
       "    <tr>\n",
       "      <th>4</th>\n",
       "      <td>2017-01-05</td>\n",
       "      <td>13</td>\n",
       "      <td>11</td>\n",
       "      <td>小到中雨</td>\n",
       "      <td>北风</td>\n",
       "      <td>2级</td>\n",
       "    </tr>\n",
       "    <tr>\n",
       "      <th>5</th>\n",
       "      <td>2017-01-06</td>\n",
       "      <td>12</td>\n",
       "      <td>10</td>\n",
       "      <td>小雨</td>\n",
       "      <td>东北风</td>\n",
       "      <td>1级</td>\n",
       "    </tr>\n",
       "    <tr>\n",
       "      <th>6</th>\n",
       "      <td>2017-01-07</td>\n",
       "      <td>11</td>\n",
       "      <td>9</td>\n",
       "      <td>中雨</td>\n",
       "      <td>北风</td>\n",
       "      <td>2级</td>\n",
       "    </tr>\n",
       "    <tr>\n",
       "      <th>7</th>\n",
       "      <td>2017-01-08</td>\n",
       "      <td>12</td>\n",
       "      <td>5</td>\n",
       "      <td>多云</td>\n",
       "      <td>北风</td>\n",
       "      <td>2级</td>\n",
       "    </tr>\n",
       "    <tr>\n",
       "      <th>8</th>\n",
       "      <td>2017-01-09</td>\n",
       "      <td>11</td>\n",
       "      <td>4</td>\n",
       "      <td>多云</td>\n",
       "      <td>东北风</td>\n",
       "      <td>2级</td>\n",
       "    </tr>\n",
       "    <tr>\n",
       "      <th>9</th>\n",
       "      <td>2017-01-10</td>\n",
       "      <td>9</td>\n",
       "      <td>4</td>\n",
       "      <td>多云</td>\n",
       "      <td>北风</td>\n",
       "      <td>1级</td>\n",
       "    </tr>\n",
       "    <tr>\n",
       "      <th>10</th>\n",
       "      <td>2017-01-11</td>\n",
       "      <td>8</td>\n",
       "      <td>5</td>\n",
       "      <td>小雨</td>\n",
       "      <td>北风</td>\n",
       "      <td>1级</td>\n",
       "    </tr>\n",
       "    <tr>\n",
       "      <th>11</th>\n",
       "      <td>2017-01-12</td>\n",
       "      <td>7</td>\n",
       "      <td>4</td>\n",
       "      <td>小雨</td>\n",
       "      <td>西南风</td>\n",
       "      <td>1级</td>\n",
       "    </tr>\n",
       "    <tr>\n",
       "      <th>12</th>\n",
       "      <td>2017-01-13</td>\n",
       "      <td>10</td>\n",
       "      <td>1</td>\n",
       "      <td>多云</td>\n",
       "      <td>北风</td>\n",
       "      <td>1级</td>\n",
       "    </tr>\n",
       "    <tr>\n",
       "      <th>13</th>\n",
       "      <td>2017-01-14</td>\n",
       "      <td>10</td>\n",
       "      <td>2</td>\n",
       "      <td>晴</td>\n",
       "      <td>东北风</td>\n",
       "      <td>3级</td>\n",
       "    </tr>\n",
       "    <tr>\n",
       "      <th>14</th>\n",
       "      <td>2017-01-15</td>\n",
       "      <td>8</td>\n",
       "      <td>2</td>\n",
       "      <td>多云</td>\n",
       "      <td>东北风</td>\n",
       "      <td>1级</td>\n",
       "    </tr>\n",
       "    <tr>\n",
       "      <th>15</th>\n",
       "      <td>2017-01-16</td>\n",
       "      <td>9</td>\n",
       "      <td>2</td>\n",
       "      <td>多云</td>\n",
       "      <td>东风</td>\n",
       "      <td>2级</td>\n",
       "    </tr>\n",
       "    <tr>\n",
       "      <th>16</th>\n",
       "      <td>2017-01-17</td>\n",
       "      <td>11</td>\n",
       "      <td>7</td>\n",
       "      <td>阴</td>\n",
       "      <td>西北风</td>\n",
       "      <td>2级</td>\n",
       "    </tr>\n",
       "    <tr>\n",
       "      <th>17</th>\n",
       "      <td>2017-01-18</td>\n",
       "      <td>8</td>\n",
       "      <td>6</td>\n",
       "      <td>小雨</td>\n",
       "      <td>东北风</td>\n",
       "      <td>2级</td>\n",
       "    </tr>\n",
       "    <tr>\n",
       "      <th>18</th>\n",
       "      <td>2017-01-19</td>\n",
       "      <td>8</td>\n",
       "      <td>0</td>\n",
       "      <td>小雨</td>\n",
       "      <td>北风</td>\n",
       "      <td>3级</td>\n",
       "    </tr>\n",
       "    <tr>\n",
       "      <th>19</th>\n",
       "      <td>2017-01-20</td>\n",
       "      <td>6</td>\n",
       "      <td>-3</td>\n",
       "      <td>晴</td>\n",
       "      <td>东北风</td>\n",
       "      <td>3级</td>\n",
       "    </tr>\n",
       "    <tr>\n",
       "      <th>20</th>\n",
       "      <td>2017-01-21</td>\n",
       "      <td>7</td>\n",
       "      <td>-1</td>\n",
       "      <td>多云</td>\n",
       "      <td>北风</td>\n",
       "      <td>1级</td>\n",
       "    </tr>\n",
       "    <tr>\n",
       "      <th>21</th>\n",
       "      <td>2017-01-22</td>\n",
       "      <td>8</td>\n",
       "      <td>-2</td>\n",
       "      <td>晴</td>\n",
       "      <td>东北风</td>\n",
       "      <td>2级</td>\n",
       "    </tr>\n",
       "    <tr>\n",
       "      <th>22</th>\n",
       "      <td>2017-01-23</td>\n",
       "      <td>8</td>\n",
       "      <td>-1</td>\n",
       "      <td>晴</td>\n",
       "      <td>东南风</td>\n",
       "      <td>2级</td>\n",
       "    </tr>\n",
       "    <tr>\n",
       "      <th>23</th>\n",
       "      <td>2017-01-24</td>\n",
       "      <td>9</td>\n",
       "      <td>3</td>\n",
       "      <td>多云</td>\n",
       "      <td>东风</td>\n",
       "      <td>2级</td>\n",
       "    </tr>\n",
       "    <tr>\n",
       "      <th>24</th>\n",
       "      <td>2017-01-25</td>\n",
       "      <td>10</td>\n",
       "      <td>2</td>\n",
       "      <td>阴</td>\n",
       "      <td>南风</td>\n",
       "      <td>1级</td>\n",
       "    </tr>\n",
       "    <tr>\n",
       "      <th>25</th>\n",
       "      <td>2017-01-26</td>\n",
       "      <td>13</td>\n",
       "      <td>3</td>\n",
       "      <td>晴</td>\n",
       "      <td>南风</td>\n",
       "      <td>2级</td>\n",
       "    </tr>\n",
       "    <tr>\n",
       "      <th>26</th>\n",
       "      <td>2017-01-27</td>\n",
       "      <td>13</td>\n",
       "      <td>5</td>\n",
       "      <td>多云</td>\n",
       "      <td>东风</td>\n",
       "      <td>2级</td>\n",
       "    </tr>\n",
       "    <tr>\n",
       "      <th>27</th>\n",
       "      <td>2017-01-28</td>\n",
       "      <td>17</td>\n",
       "      <td>7</td>\n",
       "      <td>多云</td>\n",
       "      <td>南风</td>\n",
       "      <td>1级</td>\n",
       "    </tr>\n",
       "    <tr>\n",
       "      <th>28</th>\n",
       "      <td>2017-01-29</td>\n",
       "      <td>20</td>\n",
       "      <td>4</td>\n",
       "      <td>多云</td>\n",
       "      <td>北风</td>\n",
       "      <td>3级</td>\n",
       "    </tr>\n",
       "    <tr>\n",
       "      <th>29</th>\n",
       "      <td>2017-01-30</td>\n",
       "      <td>8</td>\n",
       "      <td>0</td>\n",
       "      <td>多云</td>\n",
       "      <td>东北风</td>\n",
       "      <td>3级</td>\n",
       "    </tr>\n",
       "    <tr>\n",
       "      <th>...</th>\n",
       "      <td>...</td>\n",
       "      <td>...</td>\n",
       "      <td>...</td>\n",
       "      <td>...</td>\n",
       "      <td>...</td>\n",
       "      <td>...</td>\n",
       "    </tr>\n",
       "    <tr>\n",
       "      <th>88</th>\n",
       "      <td>2017-04-01</td>\n",
       "      <td>17</td>\n",
       "      <td>6</td>\n",
       "      <td>多云</td>\n",
       "      <td>北风</td>\n",
       "      <td>2级</td>\n",
       "    </tr>\n",
       "    <tr>\n",
       "      <th>89</th>\n",
       "      <td>2017-04-02</td>\n",
       "      <td>22</td>\n",
       "      <td>10</td>\n",
       "      <td>晴</td>\n",
       "      <td>东南风</td>\n",
       "      <td>2级</td>\n",
       "    </tr>\n",
       "    <tr>\n",
       "      <th>90</th>\n",
       "      <td>2017-04-03</td>\n",
       "      <td>23</td>\n",
       "      <td>12</td>\n",
       "      <td>多云</td>\n",
       "      <td>东风</td>\n",
       "      <td>4级</td>\n",
       "    </tr>\n",
       "    <tr>\n",
       "      <th>91</th>\n",
       "      <td>2017-04-04</td>\n",
       "      <td>25</td>\n",
       "      <td>15</td>\n",
       "      <td>多云</td>\n",
       "      <td>南风</td>\n",
       "      <td>4级</td>\n",
       "    </tr>\n",
       "    <tr>\n",
       "      <th>92</th>\n",
       "      <td>2017-04-05</td>\n",
       "      <td>26</td>\n",
       "      <td>16</td>\n",
       "      <td>阴</td>\n",
       "      <td>北风</td>\n",
       "      <td>4级</td>\n",
       "    </tr>\n",
       "    <tr>\n",
       "      <th>93</th>\n",
       "      <td>2017-04-06</td>\n",
       "      <td>27</td>\n",
       "      <td>18</td>\n",
       "      <td>中雨</td>\n",
       "      <td>东风</td>\n",
       "      <td>4级</td>\n",
       "    </tr>\n",
       "    <tr>\n",
       "      <th>94</th>\n",
       "      <td>2017-04-07</td>\n",
       "      <td>21</td>\n",
       "      <td>16</td>\n",
       "      <td>阵雨</td>\n",
       "      <td>东南风</td>\n",
       "      <td>2级</td>\n",
       "    </tr>\n",
       "    <tr>\n",
       "      <th>95</th>\n",
       "      <td>2017-04-08</td>\n",
       "      <td>26</td>\n",
       "      <td>14</td>\n",
       "      <td>多云</td>\n",
       "      <td>东北风</td>\n",
       "      <td>4级</td>\n",
       "    </tr>\n",
       "    <tr>\n",
       "      <th>96</th>\n",
       "      <td>2017-04-09</td>\n",
       "      <td>14</td>\n",
       "      <td>10</td>\n",
       "      <td>阵雨</td>\n",
       "      <td>北风</td>\n",
       "      <td>3级</td>\n",
       "    </tr>\n",
       "    <tr>\n",
       "      <th>97</th>\n",
       "      <td>2017-04-10</td>\n",
       "      <td>13</td>\n",
       "      <td>11</td>\n",
       "      <td>阵雨</td>\n",
       "      <td>北风</td>\n",
       "      <td>4级</td>\n",
       "    </tr>\n",
       "    <tr>\n",
       "      <th>98</th>\n",
       "      <td>2017-04-11</td>\n",
       "      <td>15</td>\n",
       "      <td>11</td>\n",
       "      <td>阴</td>\n",
       "      <td>北风</td>\n",
       "      <td>2级</td>\n",
       "    </tr>\n",
       "    <tr>\n",
       "      <th>99</th>\n",
       "      <td>2017-04-12</td>\n",
       "      <td>19</td>\n",
       "      <td>8</td>\n",
       "      <td>多云</td>\n",
       "      <td>东南风</td>\n",
       "      <td>2级</td>\n",
       "    </tr>\n",
       "    <tr>\n",
       "      <th>100</th>\n",
       "      <td>2017-04-13</td>\n",
       "      <td>23</td>\n",
       "      <td>11</td>\n",
       "      <td>晴</td>\n",
       "      <td>东风</td>\n",
       "      <td>4级</td>\n",
       "    </tr>\n",
       "    <tr>\n",
       "      <th>101</th>\n",
       "      <td>2017-04-14</td>\n",
       "      <td>28</td>\n",
       "      <td>16</td>\n",
       "      <td>晴</td>\n",
       "      <td>南风</td>\n",
       "      <td>3级</td>\n",
       "    </tr>\n",
       "    <tr>\n",
       "      <th>102</th>\n",
       "      <td>2017-04-15</td>\n",
       "      <td>31</td>\n",
       "      <td>17</td>\n",
       "      <td>多云</td>\n",
       "      <td>南风</td>\n",
       "      <td>3级</td>\n",
       "    </tr>\n",
       "    <tr>\n",
       "      <th>103</th>\n",
       "      <td>2017-04-16</td>\n",
       "      <td>30</td>\n",
       "      <td>21</td>\n",
       "      <td>阵雨</td>\n",
       "      <td>西南风</td>\n",
       "      <td>4级</td>\n",
       "    </tr>\n",
       "    <tr>\n",
       "      <th>104</th>\n",
       "      <td>2017-04-17</td>\n",
       "      <td>25</td>\n",
       "      <td>16</td>\n",
       "      <td>阵雨</td>\n",
       "      <td>西南风</td>\n",
       "      <td>3级</td>\n",
       "    </tr>\n",
       "    <tr>\n",
       "      <th>105</th>\n",
       "      <td>2017-04-18</td>\n",
       "      <td>29</td>\n",
       "      <td>16</td>\n",
       "      <td>晴</td>\n",
       "      <td>北风</td>\n",
       "      <td>3级</td>\n",
       "    </tr>\n",
       "    <tr>\n",
       "      <th>106</th>\n",
       "      <td>2017-04-19</td>\n",
       "      <td>28</td>\n",
       "      <td>18</td>\n",
       "      <td>阵雨</td>\n",
       "      <td>南风</td>\n",
       "      <td>4级</td>\n",
       "    </tr>\n",
       "    <tr>\n",
       "      <th>107</th>\n",
       "      <td>2017-04-20</td>\n",
       "      <td>25</td>\n",
       "      <td>16</td>\n",
       "      <td>多云</td>\n",
       "      <td>北风</td>\n",
       "      <td>6级</td>\n",
       "    </tr>\n",
       "    <tr>\n",
       "      <th>108</th>\n",
       "      <td>2017-04-21</td>\n",
       "      <td>23</td>\n",
       "      <td>12</td>\n",
       "      <td>阴</td>\n",
       "      <td>北风</td>\n",
       "      <td>4级</td>\n",
       "    </tr>\n",
       "    <tr>\n",
       "      <th>109</th>\n",
       "      <td>2017-04-22</td>\n",
       "      <td>23</td>\n",
       "      <td>12</td>\n",
       "      <td>晴</td>\n",
       "      <td>东南风</td>\n",
       "      <td>3级</td>\n",
       "    </tr>\n",
       "    <tr>\n",
       "      <th>110</th>\n",
       "      <td>2017-04-23</td>\n",
       "      <td>24</td>\n",
       "      <td>12</td>\n",
       "      <td>晴</td>\n",
       "      <td>东风</td>\n",
       "      <td>2级</td>\n",
       "    </tr>\n",
       "    <tr>\n",
       "      <th>111</th>\n",
       "      <td>2017-04-24</td>\n",
       "      <td>27</td>\n",
       "      <td>16</td>\n",
       "      <td>晴</td>\n",
       "      <td>东风</td>\n",
       "      <td>4级</td>\n",
       "    </tr>\n",
       "    <tr>\n",
       "      <th>112</th>\n",
       "      <td>2017-04-25</td>\n",
       "      <td>26</td>\n",
       "      <td>17</td>\n",
       "      <td>阵雨</td>\n",
       "      <td>东风</td>\n",
       "      <td>3级</td>\n",
       "    </tr>\n",
       "    <tr>\n",
       "      <th>113</th>\n",
       "      <td>2017-04-26</td>\n",
       "      <td>19</td>\n",
       "      <td>13</td>\n",
       "      <td>阵雨</td>\n",
       "      <td>北风</td>\n",
       "      <td>5级</td>\n",
       "    </tr>\n",
       "    <tr>\n",
       "      <th>114</th>\n",
       "      <td>2017-04-27</td>\n",
       "      <td>21</td>\n",
       "      <td>11</td>\n",
       "      <td>多云</td>\n",
       "      <td>西北风</td>\n",
       "      <td>2级</td>\n",
       "    </tr>\n",
       "    <tr>\n",
       "      <th>115</th>\n",
       "      <td>2017-04-28</td>\n",
       "      <td>26</td>\n",
       "      <td>13</td>\n",
       "      <td>晴</td>\n",
       "      <td>西南风</td>\n",
       "      <td>2级</td>\n",
       "    </tr>\n",
       "    <tr>\n",
       "      <th>116</th>\n",
       "      <td>2017-04-29</td>\n",
       "      <td>29</td>\n",
       "      <td>15</td>\n",
       "      <td>晴</td>\n",
       "      <td>西南风</td>\n",
       "      <td>3级</td>\n",
       "    </tr>\n",
       "    <tr>\n",
       "      <th>117</th>\n",
       "      <td>2017-04-30</td>\n",
       "      <td>29</td>\n",
       "      <td>16</td>\n",
       "      <td>多云</td>\n",
       "      <td>东风</td>\n",
       "      <td>2级</td>\n",
       "    </tr>\n",
       "  </tbody>\n",
       "</table>\n",
       "<p>118 rows × 6 columns</p>\n",
       "</div>"
      ],
      "text/plain": [
       "             日期  最高气温  最低气温    天气   风向  风力\n",
       "0    2017-01-01    17     7     晴  西北风  2级\n",
       "1    2017-01-02    16     8    多云  东北风  2级\n",
       "2    2017-01-03    15     8    多云  东北风  1级\n",
       "3    2017-01-04    15    11    小雨  西北风  2级\n",
       "4    2017-01-05    13    11  小到中雨   北风  2级\n",
       "5    2017-01-06    12    10    小雨  东北风  1级\n",
       "6    2017-01-07    11     9    中雨   北风  2级\n",
       "7    2017-01-08    12     5    多云   北风  2级\n",
       "8    2017-01-09    11     4    多云  东北风  2级\n",
       "9    2017-01-10     9     4    多云   北风  1级\n",
       "10   2017-01-11     8     5    小雨   北风  1级\n",
       "11   2017-01-12     7     4    小雨  西南风  1级\n",
       "12   2017-01-13    10     1    多云   北风  1级\n",
       "13   2017-01-14    10     2     晴  东北风  3级\n",
       "14   2017-01-15     8     2    多云  东北风  1级\n",
       "15   2017-01-16     9     2    多云   东风  2级\n",
       "16   2017-01-17    11     7     阴  西北风  2级\n",
       "17   2017-01-18     8     6    小雨  东北风  2级\n",
       "18   2017-01-19     8     0    小雨   北风  3级\n",
       "19   2017-01-20     6    -3     晴  东北风  3级\n",
       "20   2017-01-21     7    -1    多云   北风  1级\n",
       "21   2017-01-22     8    -2     晴  东北风  2级\n",
       "22   2017-01-23     8    -1     晴  东南风  2级\n",
       "23   2017-01-24     9     3    多云   东风  2级\n",
       "24   2017-01-25    10     2     阴   南风  1级\n",
       "25   2017-01-26    13     3     晴   南风  2级\n",
       "26   2017-01-27    13     5    多云   东风  2级\n",
       "27   2017-01-28    17     7    多云   南风  1级\n",
       "28   2017-01-29    20     4    多云   北风  3级\n",
       "29   2017-01-30     8     0    多云  东北风  3级\n",
       "..          ...   ...   ...   ...  ...  ..\n",
       "88   2017-04-01    17     6    多云   北风  2级\n",
       "89   2017-04-02    22    10     晴  东南风  2级\n",
       "90   2017-04-03    23    12    多云   东风  4级\n",
       "91   2017-04-04    25    15    多云   南风  4级\n",
       "92   2017-04-05    26    16     阴   北风  4级\n",
       "93   2017-04-06    27    18    中雨   东风  4级\n",
       "94   2017-04-07    21    16    阵雨  东南风  2级\n",
       "95   2017-04-08    26    14    多云  东北风  4级\n",
       "96   2017-04-09    14    10    阵雨   北风  3级\n",
       "97   2017-04-10    13    11    阵雨   北风  4级\n",
       "98   2017-04-11    15    11     阴   北风  2级\n",
       "99   2017-04-12    19     8    多云  东南风  2级\n",
       "100  2017-04-13    23    11     晴   东风  4级\n",
       "101  2017-04-14    28    16     晴   南风  3级\n",
       "102  2017-04-15    31    17    多云   南风  3级\n",
       "103  2017-04-16    30    21    阵雨  西南风  4级\n",
       "104  2017-04-17    25    16    阵雨  西南风  3级\n",
       "105  2017-04-18    29    16     晴   北风  3级\n",
       "106  2017-04-19    28    18    阵雨   南风  4级\n",
       "107  2017-04-20    25    16    多云   北风  6级\n",
       "108  2017-04-21    23    12     阴   北风  4级\n",
       "109  2017-04-22    23    12     晴  东南风  3级\n",
       "110  2017-04-23    24    12     晴   东风  2级\n",
       "111  2017-04-24    27    16     晴   东风  4级\n",
       "112  2017-04-25    26    17    阵雨   东风  3级\n",
       "113  2017-04-26    19    13    阵雨   北风  5级\n",
       "114  2017-04-27    21    11    多云  西北风  2级\n",
       "115  2017-04-28    26    13     晴  西南风  2级\n",
       "116  2017-04-29    29    15     晴  西南风  3级\n",
       "117  2017-04-30    29    16    多云   东风  2级\n",
       "\n",
       "[118 rows x 6 columns]"
      ]
     },
     "execution_count": 81,
     "metadata": {},
     "output_type": "execute_result"
    }
   ],
   "source": [
    "data"
   ]
  },
  {
   "cell_type": "code",
   "execution_count": 34,
   "metadata": {
    "scrolled": true
   },
   "outputs": [],
   "source": [
    "#设置日期为索引\n"
   ]
  },
  {
   "cell_type": "code",
   "execution_count": 35,
   "metadata": {
    "scrolled": true
   },
   "outputs": [],
   "source": [
    "# 建立数据透视表 索引为天气 列为风向  聚合数值为最高气温\n"
   ]
  },
  {
   "cell_type": "code",
   "execution_count": 36,
   "metadata": {},
   "outputs": [],
   "source": [
    "#行索引是风向，列索引是风力，值是最低气温，建一个透视表\n"
   ]
  },
  {
   "cell_type": "code",
   "execution_count": 37,
   "metadata": {
    "scrolled": true
   },
   "outputs": [],
   "source": [
    "#行索引是天气，列索引是风向，值是最高气温，建一个透视表,并赋值给df_table\n"
   ]
  },
  {
   "cell_type": "code",
   "execution_count": 38,
   "metadata": {
    "scrolled": true
   },
   "outputs": [],
   "source": [
    "#查看df_table的详细信息\n"
   ]
  },
  {
   "cell_type": "markdown",
   "metadata": {},
   "source": [
    "## 数据的分组、分割与合并、重塑    \n",
    "- 1.按照出发地和目的地，生成旅游路线的平均价格汇总表\n",
    "- 2.汇总一个大表，包含出发地——目的地，路线总数以及平均价格\n",
    "- 3.查看出发地目的地的平均价格的透视分析\n",
    "- 4.从杭州出发—目的地-去程方式-平均价格的数据透视表"
   ]
  },
  {
   "cell_type": "code",
   "execution_count": 82,
   "metadata": {
    "scrolled": true
   },
   "outputs": [],
   "source": [
    "df_free=pd.read_csv(r'D:\\data\\qunar_free_trip.csv')"
   ]
  },
  {
   "cell_type": "code",
   "execution_count": 83,
   "metadata": {
    "scrolled": true
   },
   "outputs": [
    {
     "data": {
      "text/html": [
       "<div>\n",
       "<style scoped>\n",
       "    .dataframe tbody tr th:only-of-type {\n",
       "        vertical-align: middle;\n",
       "    }\n",
       "\n",
       "    .dataframe tbody tr th {\n",
       "        vertical-align: top;\n",
       "    }\n",
       "\n",
       "    .dataframe thead th {\n",
       "        text-align: right;\n",
       "    }\n",
       "</style>\n",
       "<table border=\"1\" class=\"dataframe\">\n",
       "  <thead>\n",
       "    <tr style=\"text-align: right;\">\n",
       "      <th></th>\n",
       "      <th>出发地</th>\n",
       "      <th>目的地</th>\n",
       "      <th>价格</th>\n",
       "      <th>节省</th>\n",
       "      <th>路线名</th>\n",
       "      <th>酒店</th>\n",
       "      <th>房间</th>\n",
       "      <th>去程航司</th>\n",
       "      <th>去程方式</th>\n",
       "      <th>去程时间</th>\n",
       "      <th>回程航司</th>\n",
       "      <th>回程方式</th>\n",
       "      <th>回程时间</th>\n",
       "    </tr>\n",
       "  </thead>\n",
       "  <tbody>\n",
       "    <tr>\n",
       "      <th>0</th>\n",
       "      <td>北京</td>\n",
       "      <td>厦门</td>\n",
       "      <td>1866</td>\n",
       "      <td>492</td>\n",
       "      <td>北京-厦门3天2晚 | 入住厦门温特雅酒店 + 联合航空/首都航空往返机票</td>\n",
       "      <td>厦门温特雅酒店 舒适型 3.9分/5分</td>\n",
       "      <td>标准房(大床)(预付) 大床 不含早 1间2晚</td>\n",
       "      <td>联合航空 KN5927</td>\n",
       "      <td>直飞</td>\n",
       "      <td>16:55-19:45</td>\n",
       "      <td>首都航空 JD5376</td>\n",
       "      <td>直飞</td>\n",
       "      <td>22:15-01:15</td>\n",
       "    </tr>\n",
       "    <tr>\n",
       "      <th>1</th>\n",
       "      <td>北京</td>\n",
       "      <td>厦门</td>\n",
       "      <td>2030</td>\n",
       "      <td>492</td>\n",
       "      <td>北京-厦门3天2晚 | 入住厦门华美达长升大酒店 + 联合航空/首都航空往返机票</td>\n",
       "      <td>厦门华美达长升大酒店 4.1分/5分</td>\n",
       "      <td>标准房(错峰出游) 大/双床 双早 1间2晚</td>\n",
       "      <td>联合航空 KN5927</td>\n",
       "      <td>直飞</td>\n",
       "      <td>16:55-19:45</td>\n",
       "      <td>首都航空 JD5376</td>\n",
       "      <td>直飞</td>\n",
       "      <td>22:15-01:15</td>\n",
       "    </tr>\n",
       "  </tbody>\n",
       "</table>\n",
       "</div>"
      ],
      "text/plain": [
       "  出发地 目的地    价格   节省                                       路线名  \\\n",
       "0  北京  厦门  1866  492     北京-厦门3天2晚 | 入住厦门温特雅酒店 + 联合航空/首都航空往返机票   \n",
       "1  北京  厦门  2030  492  北京-厦门3天2晚 | 入住厦门华美达长升大酒店 + 联合航空/首都航空往返机票   \n",
       "\n",
       "                    酒店                       房间         去程航司 去程方式  \\\n",
       "0  厦门温特雅酒店 舒适型 3.9分/5分  标准房(大床)(预付) 大床 不含早 1间2晚  联合航空 KN5927   直飞   \n",
       "1   厦门华美达长升大酒店 4.1分/5分   标准房(错峰出游) 大/双床 双早 1间2晚  联合航空 KN5927   直飞   \n",
       "\n",
       "          去程时间         回程航司 回程方式         回程时间  \n",
       "0  16:55-19:45  首都航空 JD5376   直飞  22:15-01:15  \n",
       "1  16:55-19:45  首都航空 JD5376   直飞  22:15-01:15  "
      ]
     },
     "execution_count": 83,
     "metadata": {},
     "output_type": "execute_result"
    }
   ],
   "source": [
    "df_free.head(2)"
   ]
  },
  {
   "cell_type": "code",
   "execution_count": 84,
   "metadata": {},
   "outputs": [
    {
     "data": {
      "text/plain": [
       "(30821, 13)"
      ]
     },
     "execution_count": 84,
     "metadata": {},
     "output_type": "execute_result"
    }
   ],
   "source": [
    "df_free.shape"
   ]
  },
  {
   "cell_type": "code",
   "execution_count": 85,
   "metadata": {},
   "outputs": [
    {
     "data": {
      "text/html": [
       "<div>\n",
       "<style scoped>\n",
       "    .dataframe tbody tr th:only-of-type {\n",
       "        vertical-align: middle;\n",
       "    }\n",
       "\n",
       "    .dataframe tbody tr th {\n",
       "        vertical-align: top;\n",
       "    }\n",
       "\n",
       "    .dataframe thead th {\n",
       "        text-align: right;\n",
       "    }\n",
       "</style>\n",
       "<table border=\"1\" class=\"dataframe\">\n",
       "  <thead>\n",
       "    <tr style=\"text-align: right;\">\n",
       "      <th></th>\n",
       "      <th>出发地</th>\n",
       "      <th>目的地</th>\n",
       "      <th>路线总数</th>\n",
       "    </tr>\n",
       "  </thead>\n",
       "  <tbody>\n",
       "    <tr>\n",
       "      <th>0</th>\n",
       "      <td>北京</td>\n",
       "      <td>厦门</td>\n",
       "      <td>359</td>\n",
       "    </tr>\n",
       "    <tr>\n",
       "      <th>1</th>\n",
       "      <td>北京</td>\n",
       "      <td>青岛</td>\n",
       "      <td>471</td>\n",
       "    </tr>\n",
       "    <tr>\n",
       "      <th>2</th>\n",
       "      <td>北京</td>\n",
       "      <td>杭州</td>\n",
       "      <td>1228</td>\n",
       "    </tr>\n",
       "    <tr>\n",
       "      <th>3</th>\n",
       "      <td>北京</td>\n",
       "      <td>丽江</td>\n",
       "      <td>1160</td>\n",
       "    </tr>\n",
       "    <tr>\n",
       "      <th>4</th>\n",
       "      <td>北京</td>\n",
       "      <td>九寨沟</td>\n",
       "      <td>168</td>\n",
       "    </tr>\n",
       "  </tbody>\n",
       "</table>\n",
       "</div>"
      ],
      "text/plain": [
       "  出发地  目的地  路线总数\n",
       "0  北京   厦门   359\n",
       "1  北京   青岛   471\n",
       "2  北京   杭州  1228\n",
       "3  北京   丽江  1160\n",
       "4  北京  九寨沟   168"
      ]
     },
     "execution_count": 85,
     "metadata": {},
     "output_type": "execute_result"
    }
   ],
   "source": [
    "df_all=pd.read_csv(r'D:\\data\\qunar_route_cnt.csv',encoding='utf-8')\n",
    "df_all.head()"
   ]
  },
  {
   "cell_type": "code",
   "execution_count": 86,
   "metadata": {},
   "outputs": [
    {
     "data": {
      "text/plain": [
       "(247, 3)"
      ]
     },
     "execution_count": 86,
     "metadata": {},
     "output_type": "execute_result"
    }
   ],
   "source": [
    "df_all.shape"
   ]
  },
  {
   "cell_type": "markdown",
   "metadata": {},
   "source": [
    "### 1. 按照出发地和目的地，生成旅游路线的平均价格汇总表"
   ]
  },
  {
   "cell_type": "code",
   "execution_count": 39,
   "metadata": {},
   "outputs": [],
   "source": [
    "#对df1 依据\"出发地\"和\"目的地\"两个字段分组,对价格的聚合方式为求均值,取消索引\n"
   ]
  },
  {
   "cell_type": "code",
   "execution_count": 40,
   "metadata": {},
   "outputs": [],
   "source": [
    "#对df_free 按照\"出发地\"和\"目的地\"两个字段汇总,对价格的聚合方式为求均值,不取消索引\n"
   ]
  },
  {
   "cell_type": "markdown",
   "metadata": {},
   "source": [
    "### 2. 汇总一个大表，包含出发地——目的地，路线总数以及平均价格"
   ]
  },
  {
   "cell_type": "code",
   "execution_count": 41,
   "metadata": {},
   "outputs": [],
   "source": [
    "# 依据df_free 的出发地和目的地两个字段分组,并对价格求均值,分组聚合结果赋值给new_df\n"
   ]
  },
  {
   "cell_type": "code",
   "execution_count": 42,
   "metadata": {},
   "outputs": [],
   "source": [
    "#删除分组后的\"节省\"列\n"
   ]
  },
  {
   "cell_type": "code",
   "execution_count": 43,
   "metadata": {},
   "outputs": [],
   "source": [
    "#查看new_df的形状\n"
   ]
  },
  {
   "cell_type": "code",
   "execution_count": 44,
   "metadata": {},
   "outputs": [],
   "source": [
    "#查看路线总数的表前五行\n"
   ]
  },
  {
   "cell_type": "code",
   "execution_count": 45,
   "metadata": {},
   "outputs": [],
   "source": [
    "#查看路线总数表的形状\n"
   ]
  },
  {
   "cell_type": "code",
   "execution_count": 46,
   "metadata": {},
   "outputs": [],
   "source": [
    "#将new_df表的索引设置为\"出发地\"和\"目的地\",并赋值给df2\n"
   ]
  },
  {
   "cell_type": "code",
   "execution_count": 47,
   "metadata": {},
   "outputs": [],
   "source": [
    "#将路线总数表的索引设置为\"出发地\"和\"目的地\",并赋值给df3\n"
   ]
  },
  {
   "cell_type": "code",
   "execution_count": 48,
   "metadata": {},
   "outputs": [],
   "source": [
    "#讲df2和df3两个表通过合适的拼接方式进行拼接,并赋值给df4\n"
   ]
  },
  {
   "cell_type": "code",
   "execution_count": 49,
   "metadata": {},
   "outputs": [],
   "source": [
    "#查看df4的形状\n"
   ]
  },
  {
   "cell_type": "markdown",
   "metadata": {},
   "source": [
    "### 3. 查看出发地目的地的平均价格的透视分析"
   ]
  },
  {
   "cell_type": "code",
   "execution_count": 50,
   "metadata": {},
   "outputs": [],
   "source": [
    "#依据df_free表制作数据透视表,行索引为\"出发地\",列索引为\"目的地\",聚合值为价格,聚合方式为求均值\n"
   ]
  },
  {
   "cell_type": "markdown",
   "metadata": {},
   "source": [
    "### 4. 从杭州出发—目的地-去程方式-平均价格的数据透视表"
   ]
  },
  {
   "cell_type": "code",
   "execution_count": 51,
   "metadata": {},
   "outputs": [],
   "source": [
    "#筛选出发地为\"杭州\"的所有数据,并把筛选后的数据赋值给dff\n"
   ]
  },
  {
   "cell_type": "code",
   "execution_count": 52,
   "metadata": {},
   "outputs": [],
   "source": [
    "#查看dff的形状\n"
   ]
  },
  {
   "cell_type": "code",
   "execution_count": 53,
   "metadata": {},
   "outputs": [],
   "source": [
    "#制作数据透视表,行索引为目的地,列索引为去程方式,聚合值为价格求平均\n"
   ]
  },
  {
   "cell_type": "code",
   "execution_count": 54,
   "metadata": {},
   "outputs": [],
   "source": [
    "#制作数据透视表前不对原表进行出发地的筛选,直接制作数据透视表\n",
    "#对没有筛选过出发地的表格做数据透视表,直接把筛选出发地的代码放入其中\n"
   ]
  },
  {
   "cell_type": "markdown",
   "metadata": {},
   "source": [
    "##  缺失值、异常值"
   ]
  },
  {
   "cell_type": "code",
   "execution_count": 129,
   "metadata": {
    "scrolled": true
   },
   "outputs": [
    {
     "data": {
      "text/html": [
       "<div>\n",
       "<style scoped>\n",
       "    .dataframe tbody tr th:only-of-type {\n",
       "        vertical-align: middle;\n",
       "    }\n",
       "\n",
       "    .dataframe tbody tr th {\n",
       "        vertical-align: top;\n",
       "    }\n",
       "\n",
       "    .dataframe thead th {\n",
       "        text-align: right;\n",
       "    }\n",
       "</style>\n",
       "<table border=\"1\" class=\"dataframe\">\n",
       "  <thead>\n",
       "    <tr style=\"text-align: right;\">\n",
       "      <th></th>\n",
       "      <th>日期</th>\n",
       "      <th>最高气温</th>\n",
       "      <th>最低气温</th>\n",
       "      <th>天气</th>\n",
       "      <th>风向</th>\n",
       "      <th>风力</th>\n",
       "    </tr>\n",
       "  </thead>\n",
       "  <tbody>\n",
       "    <tr>\n",
       "      <th>0</th>\n",
       "      <td>2017-01-01</td>\n",
       "      <td>17</td>\n",
       "      <td>7</td>\n",
       "      <td>晴</td>\n",
       "      <td>西北风</td>\n",
       "      <td>2级</td>\n",
       "    </tr>\n",
       "    <tr>\n",
       "      <th>1</th>\n",
       "      <td>2017-01-02</td>\n",
       "      <td>16</td>\n",
       "      <td>8</td>\n",
       "      <td>多云</td>\n",
       "      <td>东北风</td>\n",
       "      <td>2级</td>\n",
       "    </tr>\n",
       "    <tr>\n",
       "      <th>2</th>\n",
       "      <td>2017-01-03</td>\n",
       "      <td>15</td>\n",
       "      <td>8</td>\n",
       "      <td>多云</td>\n",
       "      <td>东北风</td>\n",
       "      <td>1级</td>\n",
       "    </tr>\n",
       "    <tr>\n",
       "      <th>3</th>\n",
       "      <td>2017-01-04</td>\n",
       "      <td>15</td>\n",
       "      <td>11</td>\n",
       "      <td>小雨</td>\n",
       "      <td>西北风</td>\n",
       "      <td>2级</td>\n",
       "    </tr>\n",
       "    <tr>\n",
       "      <th>4</th>\n",
       "      <td>2017-01-05</td>\n",
       "      <td>13</td>\n",
       "      <td>11</td>\n",
       "      <td>小到中雨</td>\n",
       "      <td>北风</td>\n",
       "      <td>2级</td>\n",
       "    </tr>\n",
       "  </tbody>\n",
       "</table>\n",
       "</div>"
      ],
      "text/plain": [
       "           日期  最高气温  最低气温    天气   风向  风力\n",
       "0  2017-01-01    17     7     晴  西北风  2级\n",
       "1  2017-01-02    16     8    多云  东北风  2级\n",
       "2  2017-01-03    15     8    多云  东北风  1级\n",
       "3  2017-01-04    15    11    小雨  西北风  2级\n",
       "4  2017-01-05    13    11  小到中雨   北风  2级"
      ]
     },
     "execution_count": 129,
     "metadata": {},
     "output_type": "execute_result"
    }
   ],
   "source": [
    "data = pd.read_csv(r'D:\\data\\hz_weather.csv')\n",
    "data.head()"
   ]
  },
  {
   "cell_type": "code",
   "execution_count": 55,
   "metadata": {},
   "outputs": [],
   "source": [
    "#查看data的缺失值情况\n"
   ]
  },
  {
   "cell_type": "code",
   "execution_count": 56,
   "metadata": {},
   "outputs": [],
   "source": [
    "#建立数据透视表,要求行索引为天气,列索引为风向,对最高气温求均值,并把生成的数据透视表赋值给data2\n"
   ]
  },
  {
   "cell_type": "code",
   "execution_count": 57,
   "metadata": {
    "scrolled": true
   },
   "outputs": [],
   "source": [
    "#查看data2的缺失值情况\n"
   ]
  },
  {
   "cell_type": "markdown",
   "metadata": {},
   "source": [
    "删除空值\n",
    "可使用函数df.dropna,默认并不会改变原始数据"
   ]
  },
  {
   "cell_type": "code",
   "execution_count": 58,
   "metadata": {},
   "outputs": [],
   "source": [
    "#删除缺失值,要求保留完整的行信息\n"
   ]
  },
  {
   "cell_type": "code",
   "execution_count": 59,
   "metadata": {},
   "outputs": [],
   "source": [
    "#删除缺失值,要求保留完整的列信息\n"
   ]
  },
  {
   "cell_type": "markdown",
   "metadata": {},
   "source": [
    "缺失值的填充"
   ]
  },
  {
   "cell_type": "code",
   "execution_count": 60,
   "metadata": {},
   "outputs": [],
   "source": [
    "# 使用特定字符串(missing)填充缺失值\n"
   ]
  },
  {
   "cell_type": "code",
   "execution_count": 61,
   "metadata": {},
   "outputs": [],
   "source": [
    "# 使用前一条记录的数据来代替缺失值\n"
   ]
  },
  {
   "cell_type": "code",
   "execution_count": 62,
   "metadata": {},
   "outputs": [],
   "source": [
    "# 要求使用前一条记录的数据填充缺失值,最大填充次数为1\n"
   ]
  },
  {
   "cell_type": "code",
   "execution_count": 63,
   "metadata": {},
   "outputs": [],
   "source": [
    "# 用均值对缺失值进行填充\n"
   ]
  },
  {
   "cell_type": "markdown",
   "metadata": {},
   "source": [
    "查找异常值"
   ]
  },
  {
   "cell_type": "code",
   "execution_count": 158,
   "metadata": {},
   "outputs": [
    {
     "data": {
      "text/html": [
       "<div>\n",
       "<style scoped>\n",
       "    .dataframe tbody tr th:only-of-type {\n",
       "        vertical-align: middle;\n",
       "    }\n",
       "\n",
       "    .dataframe tbody tr th {\n",
       "        vertical-align: top;\n",
       "    }\n",
       "\n",
       "    .dataframe thead th {\n",
       "        text-align: right;\n",
       "    }\n",
       "</style>\n",
       "<table border=\"1\" class=\"dataframe\">\n",
       "  <thead>\n",
       "    <tr style=\"text-align: right;\">\n",
       "      <th></th>\n",
       "      <th>日期</th>\n",
       "      <th>最高气温</th>\n",
       "      <th>最低气温</th>\n",
       "      <th>天气</th>\n",
       "      <th>风向</th>\n",
       "      <th>风力</th>\n",
       "      <th>异常值</th>\n",
       "    </tr>\n",
       "  </thead>\n",
       "  <tbody>\n",
       "    <tr>\n",
       "      <th>0</th>\n",
       "      <td>2017-01-01</td>\n",
       "      <td>17</td>\n",
       "      <td>7</td>\n",
       "      <td>晴</td>\n",
       "      <td>西北风</td>\n",
       "      <td>2级</td>\n",
       "      <td>False</td>\n",
       "    </tr>\n",
       "    <tr>\n",
       "      <th>1</th>\n",
       "      <td>2017-01-02</td>\n",
       "      <td>16</td>\n",
       "      <td>8</td>\n",
       "      <td>多云</td>\n",
       "      <td>东北风</td>\n",
       "      <td>2级</td>\n",
       "      <td>False</td>\n",
       "    </tr>\n",
       "    <tr>\n",
       "      <th>2</th>\n",
       "      <td>2017-01-03</td>\n",
       "      <td>15</td>\n",
       "      <td>8</td>\n",
       "      <td>多云</td>\n",
       "      <td>东北风</td>\n",
       "      <td>1级</td>\n",
       "      <td>False</td>\n",
       "    </tr>\n",
       "    <tr>\n",
       "      <th>3</th>\n",
       "      <td>2017-01-04</td>\n",
       "      <td>15</td>\n",
       "      <td>11</td>\n",
       "      <td>小雨</td>\n",
       "      <td>西北风</td>\n",
       "      <td>2级</td>\n",
       "      <td>False</td>\n",
       "    </tr>\n",
       "    <tr>\n",
       "      <th>4</th>\n",
       "      <td>2017-01-05</td>\n",
       "      <td>13</td>\n",
       "      <td>11</td>\n",
       "      <td>小到中雨</td>\n",
       "      <td>北风</td>\n",
       "      <td>2级</td>\n",
       "      <td>False</td>\n",
       "    </tr>\n",
       "  </tbody>\n",
       "</table>\n",
       "</div>"
      ],
      "text/plain": [
       "           日期  最高气温  最低气温    天气   风向  风力    异常值\n",
       "0  2017-01-01    17     7     晴  西北风  2级  False\n",
       "1  2017-01-02    16     8    多云  东北风  2级  False\n",
       "2  2017-01-03    15     8    多云  东北风  1级  False\n",
       "3  2017-01-04    15    11    小雨  西北风  2级  False\n",
       "4  2017-01-05    13    11  小到中雨   北风  2级  False"
      ]
     },
     "execution_count": 158,
     "metadata": {},
     "output_type": "execute_result"
    }
   ],
   "source": [
    "data.head()"
   ]
  },
  {
   "cell_type": "code",
   "execution_count": 64,
   "metadata": {},
   "outputs": [],
   "source": [
    "#规定异常值的取值范围,上限h为最高气温的均值+最高气温的1倍标准差,下限为最高气温的均值-最高气温的1倍标准差\n"
   ]
  },
  {
   "cell_type": "code",
   "execution_count": 65,
   "metadata": {},
   "outputs": [],
   "source": [
    "#在原数据集中增加一列‘异常值’,如果最高气温低于下限l或者高于上限h则为异常值\n"
   ]
  },
  {
   "cell_type": "code",
   "execution_count": 66,
   "metadata": {
    "scrolled": true
   },
   "outputs": [],
   "source": [
    "#查看\"异常值\"列中分类情况以及每种分类有多少条记录\n"
   ]
  },
  {
   "cell_type": "code",
   "execution_count": 67,
   "metadata": {},
   "outputs": [],
   "source": [
    "#查看异常的数据有哪些\n"
   ]
  },
  {
   "cell_type": "code",
   "execution_count": null,
   "metadata": {},
   "outputs": [],
   "source": []
  },
  {
   "cell_type": "code",
   "execution_count": null,
   "metadata": {},
   "outputs": [],
   "source": []
  },
  {
   "cell_type": "code",
   "execution_count": null,
   "metadata": {},
   "outputs": [],
   "source": []
  }
 ],
 "metadata": {
  "kernelspec": {
   "display_name": "Python 3",
   "language": "python",
   "name": "python3"
  },
  "language_info": {
   "codemirror_mode": {
    "name": "ipython",
    "version": 3
   },
   "file_extension": ".py",
   "mimetype": "text/x-python",
   "name": "python",
   "nbconvert_exporter": "python",
   "pygments_lexer": "ipython3",
   "version": "3.7.3"
  },
  "toc": {
   "base_numbering": 1,
   "nav_menu": {},
   "number_sections": true,
   "sideBar": true,
   "skip_h1_title": false,
   "title_cell": "Table of Contents",
   "title_sidebar": "Contents",
   "toc_cell": false,
   "toc_position": {
    "height": "calc(100% - 180px)",
    "left": "10px",
    "top": "150px",
    "width": "218.4px"
   },
   "toc_section_display": true,
   "toc_window_display": true
  },
  "varInspector": {
   "cols": {
    "lenName": 16,
    "lenType": 16,
    "lenVar": 40
   },
   "kernels_config": {
    "python": {
     "delete_cmd_postfix": "",
     "delete_cmd_prefix": "del ",
     "library": "var_list.py",
     "varRefreshCmd": "print(var_dic_list())"
    },
    "r": {
     "delete_cmd_postfix": ") ",
     "delete_cmd_prefix": "rm(",
     "library": "var_list.r",
     "varRefreshCmd": "cat(var_dic_list()) "
    }
   },
   "types_to_exclude": [
    "module",
    "function",
    "builtin_function_or_method",
    "instance",
    "_Feature"
   ],
   "window_display": false
  }
 },
 "nbformat": 4,
 "nbformat_minor": 2
}
